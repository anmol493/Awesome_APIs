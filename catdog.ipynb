{
  "nbformat": 4,
  "nbformat_minor": 0,
  "metadata": {
    "colab": {
      "name": "catdog.ipynb",
      "provenance": [],
      "collapsed_sections": [],
      "include_colab_link": true
    },
    "kernelspec": {
      "name": "python3",
      "display_name": "Python 3"
    }
  },
  "cells": [
    {
      "cell_type": "markdown",
      "metadata": {
        "id": "view-in-github",
        "colab_type": "text"
      },
      "source": [
        "<a href=\"https://colab.research.google.com/github/anmol493/Awesome_APIs/blob/master/catdog.ipynb\" target=\"_parent\"><img src=\"https://colab.research.google.com/assets/colab-badge.svg\" alt=\"Open In Colab\"/></a>"
      ]
    },
    {
      "cell_type": "code",
      "metadata": {
        "id": "Cne3DktVelEY",
        "colab_type": "code",
        "colab": {}
      },
      "source": [
        "import numpy as np\n",
        "import matplotlib.pyplot as plt\n",
        "import pandas as pd\n"
      ],
      "execution_count": 0,
      "outputs": []
    },
    {
      "cell_type": "code",
      "metadata": {
        "id": "dTL-MW8trlPB",
        "colab_type": "code",
        "outputId": "8df5b764-b7d0-4aad-f5c8-0850698ef815",
        "colab": {
          "base_uri": "https://localhost:8080/",
          "height": 34
        }
      },
      "source": [
        "from google.colab import drive\n",
        "drive.mount('/content/drive')"
      ],
      "execution_count": 18,
      "outputs": [
        {
          "output_type": "stream",
          "text": [
            "Mounted at /content/drive\n"
          ],
          "name": "stdout"
        }
      ]
    },
    {
      "cell_type": "code",
      "metadata": {
        "id": "bxFY57gimAzX",
        "colab_type": "code",
        "colab": {}
      },
      "source": [
        "from keras.models import Sequential\n",
        "from keras.layers import Dense,Conv2D,MaxPool2D,Flatten,Convolution2D\n",
        "import keras"
      ],
      "execution_count": 0,
      "outputs": []
    },
    {
      "cell_type": "code",
      "metadata": {
        "id": "ZqkaBBnCobY-",
        "colab_type": "code",
        "colab": {}
      },
      "source": [
        "classifier=Sequential()\n",
        "classifier.add(Conv2D(32,kernel_size=(5,5),padding=\"same\",activation='relu',input_shape=(64,64,3)))\n",
        "classifier.add(MaxPool2D(pool_size=(4,4)))\n",
        "classifier.add(Flatten())\n",
        "classifier.add(Dense(units=128,activation='relu'))\n",
        "classifier.add(Dense(units=64,activation='relu'))\n",
        "classifier.add(Dense(units=1,activation='sigmoid'))"
      ],
      "execution_count": 0,
      "outputs": []
    },
    {
      "cell_type": "code",
      "metadata": {
        "id": "O-4I8YfUvtOI",
        "colab_type": "code",
        "colab": {}
      },
      "source": [
        "classifier.compile(optimizer=keras.optimizers.Adadelta(),loss='binary_crossentropy',metrics=['accuracy'])"
      ],
      "execution_count": 0,
      "outputs": []
    },
    {
      "cell_type": "code",
      "metadata": {
        "id": "XYwYByX3vMdx",
        "colab_type": "code",
        "colab": {}
      },
      "source": [
        "from keras.preprocessing.image import ImageDataGenerator"
      ],
      "execution_count": 0,
      "outputs": []
    },
    {
      "cell_type": "code",
      "metadata": {
        "id": "p6VYcYmCtezb",
        "colab_type": "code",
        "outputId": "2442b8ea-f3de-4c11-f176-6b945cebca96",
        "colab": {
          "base_uri": "https://localhost:8080/",
          "height": 51
        }
      },
      "source": [
        "train_datagen = ImageDataGenerator(\n",
        "        rescale=1./255,\n",
        "        shear_range=0.2,\n",
        "        zoom_range=0.2,\n",
        "        horizontal_flip=True)\n",
        "\n",
        "test_datagen = ImageDataGenerator(rescale=1./255)\n",
        "\n",
        "train_generator = train_datagen.flow_from_directory(\n",
        "        '/content/drive/My Drive/cat-and-dog/training_set/training_set',\n",
        "        target_size=(64, 64),\n",
        "        batch_size=32,\n",
        "        class_mode='binary')\n",
        "\n",
        "validation_generator = test_datagen.flow_from_directory(\n",
        "        '/content/drive/My Drive/cat-and-dog/test_set/test_set',\n",
        "        target_size=(64, 64),\n",
        "        batch_size=32,\n",
        "        class_mode='binary')\n"
      ],
      "execution_count": 23,
      "outputs": [
        {
          "output_type": "stream",
          "text": [
            "Found 8005 images belonging to 2 classes.\n",
            "Found 2022 images belonging to 2 classes.\n"
          ],
          "name": "stdout"
        }
      ]
    },
    {
      "cell_type": "code",
      "metadata": {
        "id": "hyEhJDi0xtdB",
        "colab_type": "code",
        "outputId": "25780c4a-c654-45dd-bb49-6d069cfb2868",
        "colab": {
          "base_uri": "https://localhost:8080/",
          "height": 204
        }
      },
      "source": [
        "classifier.fit_generator(\n",
        "        train_generator,\n",
        "        steps_per_epoch=8085,\n",
        "        epochs=5,\n",
        "        validation_data=validation_generator)"
      ],
      "execution_count": 24,
      "outputs": [
        {
          "output_type": "stream",
          "text": [
            "Epoch 1/5\n",
            "8085/8085 [==============================] - 2385s 295ms/step - loss: 7.5356 - acc: 0.5065 - val_loss: 7.9633 - val_acc: 0.5005\n",
            "Epoch 2/5\n",
            "8085/8085 [==============================] - 2271s 281ms/step - loss: 7.3377 - acc: 0.5132 - val_loss: 8.0670 - val_acc: 0.4995\n",
            "Epoch 3/5\n",
            "8085/8085 [==============================] - 2270s 281ms/step - loss: 7.9855 - acc: 0.5004 - val_loss: 7.2703 - val_acc: 0.5262\n",
            "Epoch 4/5\n",
            "8085/8085 [==============================] - 2274s 281ms/step - loss: 8.0591 - acc: 0.4998 - val_loss: 8.0670 - val_acc: 0.4995\n",
            "Epoch 5/5\n",
            "8085/8085 [==============================] - 2265s 280ms/step - loss: 8.0615 - acc: 0.4998 - val_loss: 8.0670 - val_acc: 0.4995\n"
          ],
          "name": "stdout"
        },
        {
          "output_type": "execute_result",
          "data": {
            "text/plain": [
              "<keras.callbacks.History at 0x7f505ff6e7b8>"
            ]
          },
          "metadata": {
            "tags": []
          },
          "execution_count": 24
        }
      ]
    }
  ]
}